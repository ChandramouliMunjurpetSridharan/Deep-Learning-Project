{
  "nbformat": 4,
  "nbformat_minor": 0,
  "metadata": {
    "colab": {
      "provenance": []
    },
    "kernelspec": {
      "name": "python3",
      "display_name": "Python 3"
    },
    "language_info": {
      "name": "python"
    }
  },
  "cells": [
    {
      "cell_type": "markdown",
      "source": [
        "***Introduction & Dataset Overview***"
      ],
      "metadata": {
        "id": "AFhvGQzrEHsA"
      }
    },
    {
      "cell_type": "markdown",
      "source": [
        "1.    Dataset: Fruit and Vegetable Disease Dataset\n",
        "2.    Goal: Classify the type of fruit/vegetable and predict if it’s Rotten or Healthy\n",
        "3.    Problem: Binary classification\n",
        "4.    Target labels: Rotten, Healthy\n",
        "5.     Dataset Link: https://www.kaggle.com/datasets/muhammad0subhan/fruit-and-vegetable-disease-healthy-vs-rotten/data\n"
      ],
      "metadata": {
        "id": "nXXYFL8eEHX_"
      }
    },
    {
      "cell_type": "code",
      "execution_count": null,
      "metadata": {
        "id": "LSZqPGIfAE5P"
      },
      "outputs": [],
      "source": [
        "#Importing the packages\n",
        "import torch\n",
        "from torch.utils.data import DataLoader, random_split\n",
        "from torchvision import transforms, models\n",
        "from torchvision.datasets import ImageFolder"
      ]
    },
    {
      "cell_type": "code",
      "source": [
        "#Load dataset from google drive\n",
        "from google.colab import drive\n",
        "drive.mount('/content/drive')\n",
        "device = torch.device(\"cuda\" if torch.cuda.is_available() else \"cpu\")\n",
        "base_dir = '/content/drive/MyDrive/Fruit_And_Vegetable_Diseases_Dataset/'"
      ],
      "metadata": {
        "colab": {
          "base_uri": "https://localhost:8080/"
        },
        "id": "LWOJ9RR8ANon",
        "outputId": "d4d3227e-51f2-4247-c704-0dbc5c00335f"
      },
      "execution_count": null,
      "outputs": [
        {
          "output_type": "stream",
          "name": "stdout",
          "text": [
            "Mounted at /content/drive\n"
          ]
        }
      ]
    },
    {
      "cell_type": "markdown",
      "source": [
        "**Data Augmentation**"
      ],
      "metadata": {
        "id": "1r86zWMAFZIV"
      }
    },
    {
      "cell_type": "code",
      "source": [
        "#Data augmentation and transformation\n",
        "transformer = transforms.Compose([\n",
        "    transforms.Resize((128, 128)),\n",
        "    transforms.RandomRotation(30),\n",
        "    transforms.RandomHorizontalFlip(),\n",
        "    transforms.ColorJitter(brightness=0.5, contrast=0.5),\n",
        "    transforms.ToTensor() # Converting to Tensor\n",
        "])\n",
        "\n",
        "data = ImageFolder(base_dir, transform=transformer)"
      ],
      "metadata": {
        "id": "3CCxSiLwAXvm"
      },
      "execution_count": null,
      "outputs": []
    },
    {
      "cell_type": "code",
      "source": [
        "# Classes in Dataset\n",
        "class_names = data.classes\n",
        "print(f\"Classes: {class_names}\")"
      ],
      "metadata": {
        "colab": {
          "base_uri": "https://localhost:8080/"
        },
        "id": "IiL1rxBNAiSB",
        "outputId": "b19c2751-045d-40d0-9f98-79afa88ba7fb"
      },
      "execution_count": null,
      "outputs": [
        {
          "output_type": "stream",
          "name": "stdout",
          "text": [
            "Classes: ['Apple__Healthy', 'Apple__Rotten', 'Banana__Healthy', 'Banana__Rotten', 'Bellpepper__Healthy', 'Bellpepper__Rotten', 'Carrot__Healthy', 'Carrot__Rotten', 'Cucumber__Healthy', 'Cucumber__Rotten', 'Grape__Healthy', 'Grape__Rotten', 'Guava__Healthy', 'Guava__Rotten', 'Jujube__Healthy', 'Jujube__Rotten', 'Mango__Healthy', 'Mango__Rotten', 'Orange__Healthy', 'Orange__Rotten', 'Pomegranate__Healthy', 'Pomegranate__Rotten', 'Potato__Healthy', 'Potato__Rotten', 'Strawberry__Healthy', 'Strawberry__Rotten', 'Tomato__Healthy', 'Tomato__Rotten']\n"
          ]
        }
      ]
    },
    {
      "cell_type": "code",
      "source": [
        "# Train-test-validation split\n",
        "train_size = int(0.7 * len(data))\n",
        "val_size = int(0.2 * len(data))\n",
        "test_size = len(data) - train_size - val_size"
      ],
      "metadata": {
        "id": "045uEF9GAkEK"
      },
      "execution_count": null,
      "outputs": []
    },
    {
      "cell_type": "markdown",
      "source": [
        "**Random number generator with manual seed as 42**"
      ],
      "metadata": {
        "id": "u4DjCWhpFuhH"
      }
    },
    {
      "cell_type": "code",
      "source": [
        "generator = torch.Generator().manual_seed(42)\n",
        "train_dataset, val_dataset, test_dataset = random_split(data, [train_size, val_size, test_size], generator=generator)"
      ],
      "metadata": {
        "id": "vg5zZvhQAmim"
      },
      "execution_count": null,
      "outputs": []
    },
    {
      "cell_type": "code",
      "source": [
        "image_tensor, label = data[0]  # Get the first image and its label\n",
        "print(type(image_tensor), image_tensor.shape)"
      ],
      "metadata": {
        "colab": {
          "base_uri": "https://localhost:8080/"
        },
        "id": "3t2G9kk4An0h",
        "outputId": "d8039488-9475-4643-e6df-8602a78304b1"
      },
      "execution_count": null,
      "outputs": [
        {
          "output_type": "stream",
          "name": "stdout",
          "text": [
            "<class 'torch.Tensor'> torch.Size([3, 128, 128])\n"
          ]
        }
      ]
    },
    {
      "cell_type": "code",
      "source": [
        "save_path = \"/content/drive/MyDrive/tensor.pt\"\n",
        "torch.save(image_tensor, save_path)\n",
        "print(f\"Tensor saved successfully at {save_path}\")"
      ],
      "metadata": {
        "colab": {
          "base_uri": "https://localhost:8080/"
        },
        "id": "rIl4HlfjAp3D",
        "outputId": "9ee2fc88-67b0-4e09-f54d-bd4faf10bc83"
      },
      "execution_count": null,
      "outputs": [
        {
          "output_type": "stream",
          "name": "stdout",
          "text": [
            "Tensor saved successfully at /content/drive/MyDrive/tensor.pt\n"
          ]
        }
      ]
    }
  ]
}